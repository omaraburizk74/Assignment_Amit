{
 "cells": [
  {
   "cell_type": "markdown",
   "id": "8a136625",
   "metadata": {},
   "source": [
    "# Exercise 1: Calculate the multiplication and sum of two numbers\n",
    "\n",
    "### Given two integer numbers return their product only if the product is equal to or lower than 1000, else return their sum."
   ]
  },
  {
   "cell_type": "code",
   "execution_count": 9,
   "id": "dd56748e",
   "metadata": {},
   "outputs": [
    {
     "ename": "TypeError",
     "evalue": "can only concatenate str (not \"int\") to str",
     "output_type": "error",
     "traceback": [
      "\u001b[1;31m---------------------------------------------------------------------------\u001b[0m",
      "\u001b[1;31mTypeError\u001b[0m                                 Traceback (most recent call last)",
      "Cell \u001b[1;32mIn [9], line 9\u001b[0m\n\u001b[0;32m      7\u001b[0m \u001b[38;5;66;03m#first condition\u001b[39;00m\n\u001b[0;32m      8\u001b[0m result\u001b[38;5;241m=\u001b[39m mul_or_sum(\u001b[38;5;241m20\u001b[39m,\u001b[38;5;241m30\u001b[39m)\n\u001b[1;32m----> 9\u001b[0m \u001b[38;5;28mprint\u001b[39m (\u001b[38;5;124;43m\"\u001b[39;49m\u001b[38;5;124;43mthe result is\u001b[39;49m\u001b[38;5;124;43m\"\u001b[39;49m\u001b[38;5;241;43m+\u001b[39;49m\u001b[43m \u001b[49m\u001b[43mresult\u001b[49m)\n\u001b[0;32m     11\u001b[0m \u001b[38;5;66;03m#Second condition\u001b[39;00m\n\u001b[0;32m     12\u001b[0m result \u001b[38;5;241m=\u001b[39m mul_or_sum(\u001b[38;5;241m40\u001b[39m,\u001b[38;5;241m30\u001b[39m)\n",
      "\u001b[1;31mTypeError\u001b[0m: can only concatenate str (not \"int\") to str"
     ]
    }
   ],
   "source": [
    "def mul_or_sum (n1,n2):\n",
    "    product =n1*n2\n",
    "    if product <=1000:\n",
    "        return product \n",
    "    else:\n",
    "        return n1+n2\n",
    "#first condition\n",
    "result= mul_or_sum(20,30)\n",
    "print (\"the result is\"+ result)\n",
    "\n",
    "#Second condition\n",
    "result = mul_or_sum(40,30)\n",
    "print(\"the result is\"+ result)"
   ]
  },
  {
   "cell_type": "code",
   "execution_count": 10,
   "id": "6e9e7fa5",
   "metadata": {},
   "outputs": [
    {
     "name": "stdout",
     "output_type": "stream",
     "text": [
      "the result is 600\n",
      "the result is 70\n"
     ]
    }
   ],
   "source": [
    "def mul_or_sum (n1,n2):\n",
    "    product =n1*n2\n",
    "    if product <=1000:\n",
    "        return product \n",
    "    else:\n",
    "        return n1+n2\n",
    "#first condition\n",
    "result= mul_or_sum(20,30)\n",
    "print (\"the result is\", result)  #(\"text\",Variable)\n",
    "\n",
    "#Second condition\n",
    "result = mul_or_sum(40,30)\n",
    "print(\"the result is\", result)"
   ]
  },
  {
   "cell_type": "markdown",
   "id": "2ef961a5",
   "metadata": {},
   "source": [
    "# Exercise 2: Print the sum of the current number and the previous number\n",
    "### Write a program to iterate the first 10 numbers and in each iteration, print the sum of the current and previous number."
   ]
  },
  {
   "cell_type": "code",
   "execution_count": 16,
   "id": "90ded934",
   "metadata": {},
   "outputs": [
    {
     "name": "stdout",
     "output_type": "stream",
     "text": [
      "Printing current and previous number sum in a range(10)\n",
      "Current Number 0 Previous Number 0 sum= 0\n",
      "Current Number 1 Previous Number 0 sum= 1\n",
      "Current Number 2 Previous Number 1 sum= 3\n",
      "Current Number 3 Previous Number 2 sum= 5\n",
      "Current Number 4 Previous Number 3 sum= 7\n",
      "Current Number 5 Previous Number 4 sum= 9\n",
      "Current Number 6 Previous Number 5 sum= 11\n",
      "Current Number 7 Previous Number 6 sum= 13\n",
      "Current Number 8 Previous Number 7 sum= 15\n",
      "Current Number 9 Previous Number 8 sum= 17\n"
     ]
    }
   ],
   "source": [
    "print(\"Printing current and previous number sum in a range(10)\")\n",
    "previous_num=0\n",
    "\n",
    "for i in range(0,10):\n",
    "    sum_num=i+previous_num\n",
    "    print(\"Current Number\",i,\"Previous Number\",previous_num,\"sum=\",sum_num)\n",
    "    previous_num=i"
   ]
  },
  {
   "cell_type": "markdown",
   "id": "c62f4f42",
   "metadata": {},
   "source": [
    "# Exercise 3: Print characters from a string that are present at an even index number\n",
    "##### Write a program to accept a string from the user and display characters that are present at an even index number.\n",
    "##### For example, str = \"pynative\" so you should display ‘p’, ‘n’, ‘t’, ‘v"
   ]
  },
  {
   "cell_type": "code",
   "execution_count": 24,
   "id": "e5d1bdbe",
   "metadata": {},
   "outputs": [
    {
     "name": "stdout",
     "output_type": "stream",
     "text": [
      "Enter wordo9m9a9r9a9b9u9r9i9z9k\n",
      "Orginal String is: o9m9a9r9a9b9u9r9i9z9k\n",
      "Printing only even index chars\n",
      "o\n",
      "m\n",
      "a\n",
      "r\n",
      "a\n",
      "b\n",
      "u\n",
      "r\n",
      "i\n",
      "z\n",
      "k\n"
     ]
    }
   ],
   "source": [
    "word=input(\"Enter word\")\n",
    "\n",
    "print (\"Orginal String is:\",word)\n",
    "\n",
    "print(\"Printing only even index chars\")\n",
    "\n",
    "word_list=list(word)\n",
    "for i in word_list[0::2]:\n",
    "    print(i) "
   ]
  },
  {
   "cell_type": "markdown",
   "id": "d0644b55",
   "metadata": {},
   "source": [
    "# Exercise 4: Remove first n characters from a string\n",
    "##### Write a program to remove characters from a string starting from zero up to n and return a new string.\n",
    "###### For example:\n",
    "###### remove_chars(\"pynative\", 4) so output must be tive. Here we need to remove first four characters from a string.\n",
    "###### remove_chars(\"pynative\", 2) so output must be native. Here we need to remove first two characters from a string.\n",
    "###### Note: n must be less than the length of the string."
   ]
  },
  {
   "cell_type": "code",
   "execution_count": 50,
   "id": "f2c8ffa3",
   "metadata": {},
   "outputs": [
    {
     "name": "stdout",
     "output_type": "stream",
     "text": [
      "Original string: omaraburizk\n",
      "aburizk\n",
      "Original string: omaraburizk\n",
      "raburizk\n",
      "Original string: omaraburizk\n",
      "araburizk\n"
     ]
    }
   ],
   "source": [
    "def remove_chars(word,number):\n",
    "    print (\"Original string:\",word)\n",
    "    x=word[number:]\n",
    "    return x\n",
    "\n",
    "print(remove_chars(\"omaraburizk\",4))\n",
    "print(remove_chars(\"omaraburizk\",3))\n",
    "print(remove_chars(\"omaraburizk\",2))"
   ]
  },
  {
   "cell_type": "markdown",
   "id": "d07068a4",
   "metadata": {},
   "source": [
    "##### تركايه اني انا الي ادخل الرقم وكام حرف هيتحذف"
   ]
  },
  {
   "cell_type": "code",
   "execution_count": 41,
   "id": "584b561c",
   "metadata": {},
   "outputs": [
    {
     "name": "stdout",
     "output_type": "stream",
     "text": [
      "Enter wordomatkama\n",
      "Orginal String is: omatkama\n",
      "Original string: omatkama\n",
      "atkama\n"
     ]
    }
   ],
   "source": [
    "def remove_chars (word,number):\n",
    "    print(\"Original string:\",word)\n",
    "    x=word[number:]\n",
    "    return x\n",
    "\n",
    "zz=input(\"Enter word\")\n",
    "print (\"Orginal String is:\", zz)\n",
    "# print(remove_chars(print (\"Orginal String is:\",zz),2))\n",
    "word=zz\n",
    "# print(remove_chars(\"pynative\", 4))\n",
    "# print(remove_chars(\"pynative\", 2))\n",
    "\n",
    "print(remove_chars(word,2))"
   ]
  },
  {
   "cell_type": "code",
   "execution_count": null,
   "id": "07e231ad",
   "metadata": {},
   "outputs": [],
   "source": []
  },
  {
   "cell_type": "code",
   "execution_count": 40,
   "id": "16ad700e",
   "metadata": {},
   "outputs": [
    {
     "name": "stdout",
     "output_type": "stream",
     "text": [
      "Enter wordomaraburizk\n",
      "Orginal String is: omaraburizk\n",
      "The numbers you will remove4\n",
      "Orginal String is: 4\n",
      "Original string: omaraburizk\n",
      "araburizk\n"
     ]
    }
   ],
   "source": [
    "def remove_chars (word,number):\n",
    "    print(\"Original string:\",word)\n",
    "    x=word[number:]\n",
    "    return x\n",
    "\n",
    "zz=input(\"Enter word\")\n",
    "print (\"Orginal String is:\", zz)\n",
    "# print(remove_chars(print (\"Orginal String is:\",zz),2))\n",
    "word=zz\n",
    "# print(remove_chars(\"pynative\", 4))\n",
    "# print(remove_chars(\"pynative\", 2))\n",
    "yy=input(\"The numbers you will remove\")\n",
    "print (\"Orginal String is:\", yy)\n",
    "\n",
    "print(remove_chars(word,2))"
   ]
  },
  {
   "cell_type": "code",
   "execution_count": 46,
   "id": "68c1448e",
   "metadata": {},
   "outputs": [
    {
     "ename": "SyntaxError",
     "evalue": "incomplete input (1930279474.py, line 18)",
     "output_type": "error",
     "traceback": [
      "\u001b[1;36m  Cell \u001b[1;32mIn [46], line 18\u001b[1;36m\u001b[0m\n\u001b[1;33m    print(remove_chars(word,yy)\u001b[0m\n\u001b[1;37m                               ^\u001b[0m\n\u001b[1;31mSyntaxError\u001b[0m\u001b[1;31m:\u001b[0m incomplete input\n"
     ]
    }
   ],
   "source": [
    "#user input word & numbers you will remove\n",
    "def remove_chars (word,number):\n",
    "    print(\"Original string:\",word)\n",
    "    x=word[number:]\n",
    "    return x\n",
    "\n",
    "zz=input(\"Enter word\")\n",
    "print (\"Orginal String is:\", zz)\n",
    "# print(remove_chars(print (\"Orginal String is:\",zz),2))\n",
    "word=zz\n",
    "# print(remove_chars(\"pynative\", 4))\n",
    "# print(remove_chars(\"pynative\", 2))\n",
    "yy=input(\"The numbers you will remove\")\n",
    "print (\"Orginal String is:\", yy)\n",
    "\n",
    "number=yy\n",
    "int(yy)\n",
    "print(remove_chars(word,yy)"
   ]
  },
  {
   "cell_type": "code",
   "execution_count": null,
   "id": "e9d2f6f4",
   "metadata": {},
   "outputs": [],
   "source": [
    "#user input word & numbers you will remove\n",
    "def remove_chars (word,number):\n",
    "    print(\"Original string:\",word)\n",
    "    x=word[number:]\n",
    "    return x\n",
    "\n",
    "zz=input(\"Enter word\")\n",
    "print (\"Orginal String is:\", zz)\n",
    "# print(remove_chars(print (\"Orginal String is:\",zz),2))\n",
    "word=zz\n",
    "# print(remove_chars(\"pynative\", 4))\n",
    "# print(remove_chars(\"pynative\", 2))\n",
    "yy=input(\"The numbers you will remove\")\n",
    "print (\"Orginal String is:\", yy)\n",
    "\n",
    "number=yy\n",
    "print(remove_chars(word,int(yy)))"
   ]
  },
  {
   "cell_type": "markdown",
   "id": "83c51341",
   "metadata": {},
   "source": [
    "# Exercise 5: Check if the first and last number of a list is the same\n",
    "### Write a function to return True if the first and last number of a given list is same. If numbers are different then return False."
   ]
  },
  {
   "cell_type": "code",
   "execution_count": 69,
   "id": "4fdf01bd",
   "metadata": {},
   "outputs": [
    {
     "ename": "SyntaxError",
     "evalue": "'return' outside function (930681801.py, line 3)",
     "output_type": "error",
     "traceback": [
      "\u001b[1;36m  Cell \u001b[1;32mIn [69], line 3\u001b[1;36m\u001b[0m\n\u001b[1;33m    return True\u001b[0m\n\u001b[1;37m    ^\u001b[0m\n\u001b[1;31mSyntaxError\u001b[0m\u001b[1;31m:\u001b[0m 'return' outside function\n"
     ]
    }
   ],
   "source": [
    "x=[1,2,3,4,5,6,8,9]\n",
    "if x[0]==x[-1]:\n",
    "    return True  \n",
    "else:\n",
    "    return False\n"
   ]
  },
  {
   "cell_type": "code",
   "execution_count": 68,
   "id": "68817432",
   "metadata": {},
   "outputs": [
    {
     "name": "stdout",
     "output_type": "stream",
     "text": [
      "True\n"
     ]
    }
   ],
   "source": [
    "# x=input(\"enter the lest\")\n",
    "# x=list(x)\n",
    "x=[1,2,3,4,5,6,8,9]\n",
    "def hhhh(number):\n",
    "    if x[0]==x[-1]:\n",
    "        return True\n",
    "    else:\n",
    "        return False\n",
    "print(hhhh(x))"
   ]
  },
  {
   "cell_type": "markdown",
   "id": "cb51c78a",
   "metadata": {},
   "source": [
    "##### انا الي ادخل اليست واتحكم فيها"
   ]
  },
  {
   "cell_type": "code",
   "execution_count": 70,
   "id": "cdb78d60",
   "metadata": {},
   "outputs": [
    {
     "name": "stdout",
     "output_type": "stream",
     "text": [
      "enter the lest123456789\n",
      "False\n"
     ]
    }
   ],
   "source": [
    "x=input(\"enter the list: \")\n",
    "x=list(x)\n",
    "def hhhh(number):\n",
    "    if x[0]==x[-1]:\n",
    "        return True\n",
    "    else:\n",
    "        return False\n",
    "print(hhhh(x))"
   ]
  },
  {
   "cell_type": "code",
   "execution_count": 71,
   "id": "af0e26c0",
   "metadata": {},
   "outputs": [
    {
     "name": "stdout",
     "output_type": "stream",
     "text": [
      "enter the lest123456781\n",
      "True\n"
     ]
    }
   ],
   "source": [
    "x=input(\"enter the list: \")\n",
    "x=list(x)\n",
    "def hhhh(number):\n",
    "    if x[0]==x[-1]:\n",
    "        return True\n",
    "    else:\n",
    "        return False\n",
    "print(hhhh(x))"
   ]
  },
  {
   "cell_type": "code",
   "execution_count": 78,
   "id": "131a36a5",
   "metadata": {
    "scrolled": true
   },
   "outputs": [
    {
     "name": "stdout",
     "output_type": "stream",
     "text": [
      "enter the list: omatata\n"
     ]
    },
    {
     "ename": "TypeError",
     "evalue": "int() argument must be a string, a bytes-like object or a real number, not 'list'",
     "output_type": "error",
     "traceback": [
      "\u001b[1;31m---------------------------------------------------------------------------\u001b[0m",
      "\u001b[1;31mTypeError\u001b[0m                                 Traceback (most recent call last)",
      "Cell \u001b[1;32mIn [78], line 5\u001b[0m\n\u001b[0;32m      2\u001b[0m x\u001b[38;5;241m=\u001b[39m\u001b[38;5;28minput\u001b[39m(\u001b[38;5;124m\"\u001b[39m\u001b[38;5;124menter the list: \u001b[39m\u001b[38;5;124m\"\u001b[39m)\n\u001b[0;32m      3\u001b[0m x\u001b[38;5;241m=\u001b[39m\u001b[38;5;28mlist\u001b[39m(x)\n\u001b[1;32m----> 5\u001b[0m om\u001b[38;5;241m=\u001b[39m\u001b[38;5;28;43mint\u001b[39;49m\u001b[43m(\u001b[49m\u001b[43mx\u001b[49m\u001b[43m)\u001b[49m\n\u001b[0;32m      6\u001b[0m \u001b[38;5;28;01mif\u001b[39;00m x\u001b[38;5;241m==\u001b[39mom:\n\u001b[0;32m      7\u001b[0m     \u001b[38;5;28;01mdef\u001b[39;00m \u001b[38;5;21mhhhh\u001b[39m(number):\n",
      "\u001b[1;31mTypeError\u001b[0m: int() argument must be a string, a bytes-like object or a real number, not 'list'"
     ]
    }
   ],
   "source": [
    "#if enter string return must entet integer\n",
    "x=input(\"enter the list: \")\n",
    "x=list(x)\n",
    "\n",
    "\n",
    "if x==int:\n",
    "    def hhhh(number):\n",
    "        if x[0]==x[-1]:\n",
    "            return True\n",
    "        else:\n",
    "            return False\n",
    "else:\n",
    "    print(\"enter the integer\")\n",
    "    x\n"
   ]
  },
  {
   "cell_type": "markdown",
   "id": "218d5290",
   "metadata": {},
   "source": [
    "# Exercise 6: Display numbers divisible by 5 from a list\n",
    "#### Iterate the given list of numbers and print only those numbers which are divisible by 5"
   ]
  },
  {
   "cell_type": "code",
   "execution_count": 90,
   "id": "2f51e045",
   "metadata": {
    "scrolled": true
   },
   "outputs": [
    {
     "name": "stdout",
     "output_type": "stream",
     "text": [
      "Given list is [5, 10, 22, 33, 50]\n",
      "Divisible by 5: \n",
      "5\n",
      "10\n",
      "50\n"
     ]
    }
   ],
   "source": [
    "x=[5,10,22,33,50]\n",
    "print(\"Given list is\",x)\n",
    "print(\"Divisible by 5: \")\n",
    "for i in x:\n",
    "    if i % 5==0:\n",
    "        print (i)"
   ]
  },
  {
   "cell_type": "code",
   "execution_count": 93,
   "id": "f48fd153",
   "metadata": {},
   "outputs": [
    {
     "name": "stdout",
     "output_type": "stream",
     "text": [
      "5 10 15 22 33 50\n",
      "Given list is ['5', ' ', '1', '0', ' ', '1', '5', ' ', '2', '2', ' ', '3', '3', ' ', '5', '0']\n",
      "Divisible by 5: \n"
     ]
    },
    {
     "ename": "TypeError",
     "evalue": "not all arguments converted during string formatting",
     "output_type": "error",
     "traceback": [
      "\u001b[1;31m---------------------------------------------------------------------------\u001b[0m",
      "\u001b[1;31mTypeError\u001b[0m                                 Traceback (most recent call last)",
      "Cell \u001b[1;32mIn [93], line 5\u001b[0m\n\u001b[0;32m      3\u001b[0m \u001b[38;5;28mprint\u001b[39m(\u001b[38;5;124m\"\u001b[39m\u001b[38;5;124mDivisible by 5: \u001b[39m\u001b[38;5;124m\"\u001b[39m)\n\u001b[0;32m      4\u001b[0m \u001b[38;5;28;01mfor\u001b[39;00m i \u001b[38;5;129;01min\u001b[39;00m x:\n\u001b[1;32m----> 5\u001b[0m     \u001b[38;5;28;01mif\u001b[39;00m \u001b[43mi\u001b[49m\u001b[43m \u001b[49m\u001b[38;5;241;43m%\u001b[39;49m\u001b[43m \u001b[49m\u001b[38;5;241;43m5\u001b[39;49m\u001b[38;5;241m==\u001b[39m\u001b[38;5;241m0\u001b[39m:\n\u001b[0;32m      6\u001b[0m         \u001b[38;5;28mprint\u001b[39m (i)\n",
      "\u001b[1;31mTypeError\u001b[0m: not all arguments converted during string formatting"
     ]
    }
   ],
   "source": [
    "x=input();x=list(x)\n",
    "print(\"Given list is\",x)\n",
    "print(\"Divisible by 5: \")\n",
    "for i in x:\n",
    "    if i % 5==0:\n",
    "        print (i)"
   ]
  },
  {
   "cell_type": "code",
   "execution_count": 96,
   "id": "0523beab",
   "metadata": {},
   "outputs": [
    {
     "name": "stdout",
     "output_type": "stream",
     "text": [
      "10 55 66 20 100\n",
      "Given list is ['10', '55', '66', '20', '100']\n",
      "Divisible by 5: \n"
     ]
    },
    {
     "ename": "TypeError",
     "evalue": "not all arguments converted during string formatting",
     "output_type": "error",
     "traceback": [
      "\u001b[1;31m---------------------------------------------------------------------------\u001b[0m",
      "\u001b[1;31mTypeError\u001b[0m                                 Traceback (most recent call last)",
      "Cell \u001b[1;32mIn [96], line 6\u001b[0m\n\u001b[0;32m      4\u001b[0m \u001b[38;5;28mprint\u001b[39m(\u001b[38;5;124m\"\u001b[39m\u001b[38;5;124mDivisible by 5: \u001b[39m\u001b[38;5;124m\"\u001b[39m)\n\u001b[0;32m      5\u001b[0m \u001b[38;5;28;01mfor\u001b[39;00m i \u001b[38;5;129;01min\u001b[39;00m x:\n\u001b[1;32m----> 6\u001b[0m     \u001b[38;5;28;01mif\u001b[39;00m \u001b[43mi\u001b[49m\u001b[43m \u001b[49m\u001b[38;5;241;43m%\u001b[39;49m\u001b[43m \u001b[49m\u001b[38;5;241;43m5\u001b[39;49m\u001b[38;5;241m==\u001b[39m\u001b[38;5;241m0\u001b[39m:\n\u001b[0;32m      7\u001b[0m         \u001b[38;5;28mprint\u001b[39m (i)\n",
      "\u001b[1;31mTypeError\u001b[0m: not all arguments converted during string formatting"
     ]
    }
   ],
   "source": [
    "\n",
    "x=input();x=x.split()\n",
    "x=list(x)\n",
    "print(\"Given list is\",x)\n",
    "print(\"Divisible by 5: \")\n",
    "for i in x:\n",
    "    if i % 5==0:\n",
    "        print (i)"
   ]
  },
  {
   "cell_type": "code",
   "execution_count": null,
   "id": "9807770e",
   "metadata": {},
   "outputs": [],
   "source": []
  },
  {
   "cell_type": "markdown",
   "id": "894fb3a1",
   "metadata": {},
   "source": [
    "# Exercise 7: Return the count of a given substring from a string\n",
    "#### Write a program to find how many times substring “Emma” appears in the given string."
   ]
  },
  {
   "cell_type": "code",
   "execution_count": 2,
   "id": "cb193163",
   "metadata": {},
   "outputs": [
    {
     "data": {
      "text/plain": [
       "2"
      ]
     },
     "execution_count": 2,
     "metadata": {},
     "output_type": "execute_result"
    }
   ],
   "source": [
    "str_x = \"Emma is good developer. Emma is a writer\"\n",
    "str_x.count(\"Emma\")"
   ]
  },
  {
   "cell_type": "markdown",
   "id": "04de47b4",
   "metadata": {},
   "source": [
    "# Exercise 8: Print the following pattern\n"
   ]
  },
  {
   "cell_type": "code",
   "execution_count": null,
   "id": "6ee49072",
   "metadata": {},
   "outputs": [],
   "source": [
    "#templete\n",
    "\n",
    "rows = 6\n",
    "# if you want user to enter a number, uncomment the below line\n",
    "# rows = int(input('Enter the number of rows'))\n",
    "# outer loop\n",
    "for i in range(rows):\n",
    "    # nested loop\n",
    "    for j in range(i):\n",
    "        # display number\n",
    "        print(i, end=' ')\n",
    "    # new line after each row\n",
    "    print('')"
   ]
  },
  {
   "cell_type": "code",
   "execution_count": 19,
   "id": "38f9bf28",
   "metadata": {},
   "outputs": [
    {
     "name": "stdout",
     "output_type": "stream",
     "text": [
      "122333444455555"
     ]
    }
   ],
   "source": [
    "for i in range(6):\n",
    "    for x in range(i):\n",
    "        print(i,end='')   #end=\"\" علشان مينزلش كل مره سطر ويحطهم مع بعض\n",
    "     "
   ]
  },
  {
   "cell_type": "code",
   "execution_count": 24,
   "id": "b6c6501c",
   "metadata": {},
   "outputs": [
    {
     "name": "stdout",
     "output_type": "stream",
     "text": [
      "\n",
      "\n",
      "1\n",
      "\n",
      "22\n",
      "\n",
      "333\n",
      "\n",
      "4444\n",
      "\n",
      "55555\n",
      "\n"
     ]
    }
   ],
   "source": [
    "for i in range(6):\n",
    "    for x in range(i):\n",
    "        print(i,end='')\n",
    "    print(\"\\n\")"
   ]
  },
  {
   "cell_type": "code",
   "execution_count": 25,
   "id": "1770589b",
   "metadata": {},
   "outputs": [
    {
     "name": "stdout",
     "output_type": "stream",
     "text": [
      "\n",
      "1\n",
      "22\n",
      "333\n",
      "4444\n",
      "55555\n"
     ]
    }
   ],
   "source": [
    "for i in range(6):\n",
    "    for x in range(i):\n",
    "        print(i,end='')\n",
    "    print(\"\")"
   ]
  },
  {
   "cell_type": "markdown",
   "id": "fa93762a",
   "metadata": {},
   "source": [
    "## Exercise 9.1 : Check Palindrome Text"
   ]
  },
  {
   "cell_type": "code",
   "execution_count": null,
   "id": "8a277463",
   "metadata": {},
   "outputs": [],
   "source": [
    "def is_plaindrome(text):\n",
    "    length=len(text)\n",
    "    for i in (0,length//2):  # 7//2 ->>>3       عشان يطلغلي عدد صحيح بتقرب للاقل عشان نقسمهم بالظبط\n",
    "        if (text[i]!= text[length-i-1]:\n",
    "            return False\n",
    "        else:\n",
    "            return True         \n",
    "\n",
    "            \n",
    "string1=\"racecar\"\n",
    " \n",
    "\n",
    "string2=\"abceba\"\n",
    "            \n",
    "            \n",
    "            \n",
    "            "
   ]
  },
  {
   "cell_type": "code",
   "execution_count": 29,
   "id": "5ec67c40",
   "metadata": {
    "scrolled": true
   },
   "outputs": [
    {
     "name": "stdout",
     "output_type": "stream",
     "text": [
      "True\n",
      "False\n"
     ]
    }
   ],
   "source": [
    "def is_plaindrome(text):\n",
    "    length=len(text)\n",
    "    for i in range(0 ,length//2):  # 7//2 ->>>3       عشان يطلغلي عدد صحيح بتقرب للاقل عشان نقسمهم بالظبط\n",
    "        if (text[i]!= text[length-i-1]):\n",
    "            return False\n",
    "    return True\n",
    "string1=\"racecar\"\n",
    "print(is_plaindrome(string1))   \n",
    "            \n",
    "string2 =\"abceba\"\n",
    "print(is_plaindrome(string2))             "
   ]
  },
  {
   "cell_type": "markdown",
   "id": "bb6fdd79",
   "metadata": {},
   "source": [
    "# Exercise 9.2: Check Palindrome Text & Number"
   ]
  },
  {
   "cell_type": "code",
   "execution_count": 34,
   "id": "58d1a24e",
   "metadata": {},
   "outputs": [
    {
     "name": "stdout",
     "output_type": "stream",
     "text": [
      "entet the value : 121\n",
      "yes it is palindrome\n"
     ]
    }
   ],
   "source": [
    "x=input(\"entet the value : \")\n",
    "reverse=x[::-1]\n",
    "if (x==reverse):\n",
    "    print(\"yes it is palindrome\")\n",
    "else:\n",
    "    print(\"no it is not palindrome\")"
   ]
  },
  {
   "cell_type": "code",
   "execution_count": 42,
   "id": "abf68718",
   "metadata": {},
   "outputs": [
    {
     "name": "stdout",
     "output_type": "stream",
     "text": [
      "entet the value : 125\n",
      "no it is not palindrome\n"
     ]
    }
   ],
   "source": [
    "x=input(\"entet the value : \")\n",
    "reverse=x[::-1]\n",
    "if (x==reverse):\n",
    "    print(\"yes it is palindrome\")\n",
    "else:\n",
    "    print(\"no it is not palindrome\")"
   ]
  },
  {
   "cell_type": "code",
   "execution_count": 43,
   "id": "67245253",
   "metadata": {},
   "outputs": [
    {
     "name": "stdout",
     "output_type": "stream",
     "text": [
      "entet the value : racecar\n",
      "yes it is palindrome\n"
     ]
    }
   ],
   "source": [
    "x=input(\"entet the value : \")\n",
    "reverse=x[::-1]\n",
    "if (x==reverse):\n",
    "    print(\"yes it is palindrome\")\n",
    "else:\n",
    "    print(\"no it is not palindrome\")"
   ]
  },
  {
   "cell_type": "markdown",
   "id": "6d59e076",
   "metadata": {},
   "source": [
    "# Exercise 9: Check Palindrome Number\n",
    "#### Write a program to check if the given number is a palindrome number.\n",
    "\n",
    "#### A palindrome number is a number that is same after reverse. For example 545, is the palindrome numbers"
   ]
  },
  {
   "cell_type": "code",
   "execution_count": 40,
   "id": "d98e4877",
   "metadata": {},
   "outputs": [
    {
     "ename": "TypeError",
     "evalue": "'int' object is not iterable",
     "output_type": "error",
     "traceback": [
      "\u001b[1;31m---------------------------------------------------------------------------\u001b[0m",
      "\u001b[1;31mTypeError\u001b[0m                                 Traceback (most recent call last)",
      "Cell \u001b[1;32mIn [40], line 2\u001b[0m\n\u001b[0;32m      1\u001b[0m x\u001b[38;5;241m=\u001b[39m\u001b[38;5;241m121\u001b[39m\n\u001b[1;32m----> 2\u001b[0m \u001b[38;5;28;43mlist\u001b[39;49m\u001b[43m(\u001b[49m\u001b[43mx\u001b[49m\u001b[43m)\u001b[49m\n\u001b[0;32m      3\u001b[0m x\n",
      "\u001b[1;31mTypeError\u001b[0m: 'int' object is not iterable"
     ]
    }
   ],
   "source": [
    "#عايز طريقه اللعب ف الرقم براحتي\n",
    "x=121\n",
    "\n",
    "reverse_x=x[::-1]\n",
    "\n",
    "if (x==reverse):\n",
    "    print(\"original number\",x)\n",
    "    print(\"Yes. given number is palindrome number\")\n",
    "else:\n",
    "     print(\"No. given number is not palindrome number\")"
   ]
  },
  {
   "cell_type": "markdown",
   "id": "f473757a",
   "metadata": {},
   "source": [
    "# Exercise 10: Create a new list from a two list using the following condition\n",
    "##### Create a new list from a two list using the following condition\n",
    "\n",
    "##### Given a two list of numbers, write a program to create a new list such that the new list should contain odd numbers from the first list and even numbers from the second list."
   ]
  },
  {
   "cell_type": "code",
   "execution_count": 50,
   "id": "955c570d",
   "metadata": {},
   "outputs": [
    {
     "name": "stdout",
     "output_type": "stream",
     "text": [
      "odd from first and even from the second [25, 35, 40, 60, 90]\n"
     ]
    }
   ],
   "source": [
    "list1=[10,20,25,30,35]\n",
    "list2=[40,45,60,75,90]\n",
    "newlist=[]\n",
    "\n",
    "for i in list1:\n",
    "    if i%2 !=0 :\n",
    "        newlist.append(i)  \n",
    "for j in list2:\n",
    "    if j%2 ==0:\n",
    "        newlist.append(j)\n",
    "print(\"odd from first and even from the second\",newlist)    \n"
   ]
  },
  {
   "cell_type": "code",
   "execution_count": 49,
   "id": "8ed98395",
   "metadata": {},
   "outputs": [
    {
     "name": "stdout",
     "output_type": "stream",
     "text": [
      "result list:  [25, 35, 40, 60, 90]\n"
     ]
    }
   ],
   "source": [
    "def lists (list1,list2):\n",
    "    newlist=[]\n",
    "    for i in list1:\n",
    "        if i%2 !=0 :\n",
    "            newlist.append(i)\n",
    "    for j in list2:\n",
    "        if j%2 ==0:\n",
    "            newlist.append(j)\n",
    "    return newlist\n",
    "\n",
    "list1=[10,20,25,30,35]\n",
    "list2=[40,45,60,75,90]\n",
    "print(\"result list: \",lists(list1,list2))"
   ]
  },
  {
   "cell_type": "code",
   "execution_count": 8,
   "id": "273641ee",
   "metadata": {},
   "outputs": [
    {
     "name": "stdout",
     "output_type": "stream",
     "text": [
      "[25, 35, 40, 60, 90]\n"
     ]
    }
   ],
   "source": [
    "list1 = [10, 20, 25, 30, 35]\n",
    "\n",
    "list2 = [40, 45, 60, 75, 90]\n",
    "\n",
    "newlist1 = [i for i in list1 if i%2!=0]\n",
    "\n",
    "newlist2 = [i for i in list2 if i%2==0]\n",
    "\n",
    "newlist = newlist1 + newlist2\n",
    "\n",
    "print(newlist)"
   ]
  },
  {
   "cell_type": "markdown",
   "id": "e5d32e4a",
   "metadata": {},
   "source": [
    "# Exercise 11: Write a Program to extract each digit from an integer in the reverse order."
   ]
  },
  {
   "cell_type": "code",
   "execution_count": 1,
   "id": "973505e3",
   "metadata": {},
   "outputs": [
    {
     "name": "stdout",
     "output_type": "stream",
     "text": [
      "the number : 98754321\n",
      "12345789"
     ]
    }
   ],
   "source": [
    "number=98754321\n",
    "print (\"the number :\",number)\n",
    "\n",
    "while number>0:\n",
    "    digit= number%10\n",
    "    number=number//10\n",
    "    print(digit,end=\"\")"
   ]
  },
  {
   "cell_type": "markdown",
   "id": "bf981017",
   "metadata": {},
   "source": [
    "# convert integer to list  & convert list to integer"
   ]
  },
  {
   "cell_type": "code",
   "execution_count": 8,
   "id": "50a9b366",
   "metadata": {},
   "outputs": [
    {
     "name": "stdout",
     "output_type": "stream",
     "text": [
      "the number : 98754321\n"
     ]
    },
    {
     "data": {
      "text/plain": [
       "[1, 2, 3, 4, 5, 7, 8, 9]"
      ]
     },
     "execution_count": 8,
     "metadata": {},
     "output_type": "execute_result"
    }
   ],
   "source": [
    "number=98754321\n",
    "print (\"the number :\",number)\n",
    "res = [int(x) for a,x in enumerate(str(number))]\n",
    "\n",
    "reverse=res[::-1]\n",
    "reverse\n"
   ]
  },
  {
   "cell_type": "code",
   "execution_count": 9,
   "id": "3536ae85",
   "metadata": {},
   "outputs": [
    {
     "name": "stdout",
     "output_type": "stream",
     "text": [
      "the number : 98754321\n",
      "12345789"
     ]
    }
   ],
   "source": [
    "number=98754321\n",
    "print (\"the number :\",number)\n",
    "res = [int(x) for a,x in enumerate(str(number))]\n",
    "\n",
    "reverse=res[::-1]\n",
    "reverse\n",
    "\n",
    "for i in reverse:\n",
    "    print(i, end=\"\")"
   ]
  },
  {
   "cell_type": "markdown",
   "id": "c403f59e",
   "metadata": {},
   "source": [
    "# ***** convert integer to list in python *****\n"
   ]
  },
  {
   "cell_type": "code",
   "execution_count": 5,
   "id": "ef88791d",
   "metadata": {
    "scrolled": true
   },
   "outputs": [
    {
     "name": "stdout",
     "output_type": "stream",
     "text": [
      "[2, 0, 1, 9]\n"
     ]
    }
   ],
   "source": [
    "n=2019\n",
    "res = [int(x) for a,x in enumerate(str(n))]\n",
    "print(res)"
   ]
  },
  {
   "cell_type": "markdown",
   "id": "2fa83f3c",
   "metadata": {},
   "source": [
    "# ***** convert list to integer in python *****\n"
   ]
  },
  {
   "cell_type": "code",
   "execution_count": 6,
   "id": "ec6aa0b0",
   "metadata": {},
   "outputs": [
    {
     "name": "stdout",
     "output_type": "stream",
     "text": [
      "121517"
     ]
    }
   ],
   "source": [
    "# creating a list\n",
    "lst = [12, 15, 17]\n",
    " \n",
    "# iterating each element\n",
    "for i in lst:\n",
    "    print(i, end=\"\")"
   ]
  },
  {
   "cell_type": "markdown",
   "id": "944f21af",
   "metadata": {},
   "source": [
    "# Exercise 12: Calculate income tax for the given income by adhering to the below rules\n",
    "#### For example, suppose the taxable income is 45000 the income tax payable is\n",
    "\n",
    "##### 10000*0% + 10000*10%  + 25000*20% = $6000."
   ]
  },
  {
   "cell_type": "code",
   "execution_count": 11,
   "id": "97a2734b",
   "metadata": {},
   "outputs": [
    {
     "name": "stdout",
     "output_type": "stream",
     "text": [
      "6000.0\n"
     ]
    }
   ],
   "source": [
    "income=45000\n",
    "tax_payable=0\n",
    "if income<=10000:\n",
    "    tax_payable=0\n",
    "elif income<=20000:\n",
    "    x= income - 10000\n",
    "    tax_payable=a*10 / 100\n",
    "else:\n",
    "    tax_payable=0\n",
    "    tax_payable=10000*10 / 100\n",
    "    \n",
    "    z= income - 20000\n",
    "    tax_payable=tax_payable + z*20 / 100\n",
    "#     tax_payable +=(income - 20000)*20 /100\n",
    "print (tax_payable)"
   ]
  },
  {
   "cell_type": "markdown",
   "id": "4dc49ac3",
   "metadata": {},
   "source": [
    "# # Exercise 13: Print multiplication table form 1 to 10\n"
   ]
  },
  {
   "cell_type": "code",
   "execution_count": 16,
   "id": "9238185e",
   "metadata": {},
   "outputs": [
    {
     "name": "stdout",
     "output_type": "stream",
     "text": [
      "1 2 3 4 5 6 7 8 9 10 \n",
      "2 4 6 8 10 12 14 16 18 20 \n",
      "3 6 9 12 15 18 21 24 27 30 \n",
      "4 8 12 16 20 24 28 32 36 40 \n",
      "5 10 15 20 25 30 35 40 45 50 \n",
      "6 12 18 24 30 36 42 48 54 60 \n",
      "7 14 21 28 35 42 49 56 63 70 \n",
      "8 16 24 32 40 48 56 64 72 80 \n",
      "9 18 27 36 45 54 63 72 81 90 \n",
      "10 20 30 40 50 60 70 80 90 100 \n"
     ]
    }
   ],
   "source": [
    "for i in range (1,11):\n",
    "    for j in range (1,11):\n",
    "        print(i*j,end =\" \")\n",
    "    print()"
   ]
  },
  {
   "cell_type": "markdown",
   "id": "0618a8bf",
   "metadata": {},
   "source": [
    "# Exercise 14: Print downward Half-Pyramid Pattern with Star (asterisk)"
   ]
  },
  {
   "cell_type": "code",
   "execution_count": 56,
   "id": "781da40e",
   "metadata": {
    "scrolled": true
   },
   "outputs": [
    {
     "name": "stdout",
     "output_type": "stream",
     "text": [
      "* \n",
      "* * \n",
      "* * * \n",
      "* * * * \n",
      "* * * * * \n",
      "* * * * * * \n"
     ]
    }
   ],
   "source": [
    "# x=5\n",
    "# for i in range (0,x+1):\n",
    "\n",
    "for i in range (0,6,1):\n",
    "    for j in range (0,i+1):\n",
    "        print(\"*\" ,end=\" \")\n",
    "    print()"
   ]
  },
  {
   "cell_type": "code",
   "execution_count": 52,
   "id": "f9cf1b85",
   "metadata": {},
   "outputs": [
    {
     "name": "stdout",
     "output_type": "stream",
     "text": [
      "* * * * * * \n",
      "* * * * * \n",
      "* * * * \n",
      "* * * \n",
      "* * \n",
      "* \n",
      "\n"
     ]
    }
   ],
   "source": [
    "\n",
    "for i in range (7,0,-1):\n",
    "    for j in range (0,i-1):\n",
    "        print(\"*\" ,end=\" \")\n",
    "    print()"
   ]
  },
  {
   "cell_type": "markdown",
   "id": "6a792744",
   "metadata": {},
   "source": [
    "###### -------"
   ]
  },
  {
   "cell_type": "code",
   "execution_count": 17,
   "id": "239a65d4",
   "metadata": {},
   "outputs": [
    {
     "name": "stdout",
     "output_type": "stream",
     "text": [
      "\n",
      "* \n",
      "* * \n",
      "* * * \n",
      "* * * * \n",
      "* * * * * \n",
      "* * * * * * \n"
     ]
    }
   ],
   "source": [
    "for i in range(0, 7, 1):\n",
    "    print(\"* \" * i)"
   ]
  },
  {
   "cell_type": "code",
   "execution_count": 16,
   "id": "da3911c8",
   "metadata": {},
   "outputs": [
    {
     "name": "stdout",
     "output_type": "stream",
     "text": [
      "* * * * * * \n",
      "* * * * * \n",
      "* * * * \n",
      "* * * \n",
      "* * \n",
      "* \n"
     ]
    }
   ],
   "source": [
    "for i in range(6, 0, -1):\n",
    "    print(\"* \" * i)"
   ]
  },
  {
   "cell_type": "markdown",
   "id": "8779b519",
   "metadata": {},
   "source": [
    "# Exercise 15: Write a function called exponent(base, exp) that returns an int value of base raises to the power of exp.\n",
    "##### Note here exp is a non-negative integer, and the base is an integer."
   ]
  },
  {
   "cell_type": "code",
   "execution_count": 6,
   "id": "7da7450a",
   "metadata": {},
   "outputs": [
    {
     "name": "stdout",
     "output_type": "stream",
     "text": [
      "5 raises to the power of 4 is : 625\n"
     ]
    }
   ],
   "source": [
    "def exponent(base, exp):\n",
    "    num=exp\n",
    "    result=1\n",
    "    while num>0:\n",
    "#         result = result * base\n",
    "#         num = num - 1\n",
    "        result *=base\n",
    "        num -=1\n",
    "    \n",
    "    print(base,\"raises to the power of\",exp,\"is :\",result)\n",
    "exponent(5,4)"
   ]
  },
  {
   "cell_type": "code",
   "execution_count": 7,
   "id": "47695cb8",
   "metadata": {},
   "outputs": [
    {
     "name": "stdout",
     "output_type": "stream",
     "text": [
      "2 raises to the power of 5 is : 32\n"
     ]
    }
   ],
   "source": [
    "def exponent(base, exp):\n",
    "    num=exp\n",
    "    result=1\n",
    "    while num>0:\n",
    "#         result = result * base\n",
    "#         num = num - 1\n",
    "        result *=base\n",
    "        num -=1\n",
    "    \n",
    "    print(base,\"raises to the power of\",exp,\"is :\",result)\n",
    "exponent(2,5)"
   ]
  },
  {
   "cell_type": "code",
   "execution_count": null,
   "id": "823f6659",
   "metadata": {},
   "outputs": [],
   "source": []
  },
  {
   "cell_type": "code",
   "execution_count": 10,
   "id": "fb9b8869",
   "metadata": {},
   "outputs": [
    {
     "name": "stdout",
     "output_type": "stream",
     "text": [
      "2 raises to the power of 5:  32\n"
     ]
    }
   ],
   "source": [
    "base = 2\n",
    "exp = 5\n",
    "result=base**exp\n",
    "print(f\"{base} raises to the power of {exp}: \",result)"
   ]
  },
  {
   "cell_type": "code",
   "execution_count": null,
   "id": "827f7345",
   "metadata": {},
   "outputs": [],
   "source": []
  },
  {
   "cell_type": "code",
   "execution_count": 11,
   "id": "c0cdfdb5",
   "metadata": {},
   "outputs": [
    {
     "name": "stdout",
     "output_type": "stream",
     "text": [
      "2 raises to the power of 5 is:  32\n"
     ]
    }
   ],
   "source": [
    "def exponent(base,power):\n",
    "    x=base**power\n",
    "    print(base, \"raises to the power of\", power, \"is: \", x)\n",
    "exponent(2,5)"
   ]
  },
  {
   "cell_type": "code",
   "execution_count": 12,
   "id": "5ffbd5cf",
   "metadata": {},
   "outputs": [
    {
     "name": "stdout",
     "output_type": "stream",
     "text": [
      "2 raises to the power of 5 is:  32\n"
     ]
    }
   ],
   "source": [
    "def exponent(base,power):\n",
    "    print(base, \"raises to the power of\", power, \"is: \", base**power)\n",
    "exponent(2,5)"
   ]
  },
  {
   "cell_type": "code",
   "execution_count": null,
   "id": "293f4cf8",
   "metadata": {},
   "outputs": [],
   "source": []
  }
 ],
 "metadata": {
  "kernelspec": {
   "display_name": "Python 3 (ipykernel)",
   "language": "python",
   "name": "python3"
  },
  "language_info": {
   "codemirror_mode": {
    "name": "ipython",
    "version": 3
   },
   "file_extension": ".py",
   "mimetype": "text/x-python",
   "name": "python",
   "nbconvert_exporter": "python",
   "pygments_lexer": "ipython3",
   "version": "3.10.8"
  }
 },
 "nbformat": 4,
 "nbformat_minor": 5
}
