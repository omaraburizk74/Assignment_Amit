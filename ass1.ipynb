{
 "cells": [
  {
   "cell_type": "markdown",
   "id": "8a136625",
   "metadata": {},
   "source": [
    "# Exercise 1: Calculate the multiplication and sum of two numbers\n",
    "\n",
    "### Given two integer numbers return their product only if the product is equal to or lower than 1000, else return their sum."
   ]
  },
  {
   "cell_type": "code",
   "execution_count": 9,
   "id": "dd56748e",
   "metadata": {},
   "outputs": [
    {
     "ename": "TypeError",
     "evalue": "can only concatenate str (not \"int\") to str",
     "output_type": "error",
     "traceback": [
      "\u001b[1;31m---------------------------------------------------------------------------\u001b[0m",
      "\u001b[1;31mTypeError\u001b[0m                                 Traceback (most recent call last)",
      "Cell \u001b[1;32mIn [9], line 9\u001b[0m\n\u001b[0;32m      7\u001b[0m \u001b[38;5;66;03m#first condition\u001b[39;00m\n\u001b[0;32m      8\u001b[0m result\u001b[38;5;241m=\u001b[39m mul_or_sum(\u001b[38;5;241m20\u001b[39m,\u001b[38;5;241m30\u001b[39m)\n\u001b[1;32m----> 9\u001b[0m \u001b[38;5;28mprint\u001b[39m (\u001b[38;5;124;43m\"\u001b[39;49m\u001b[38;5;124;43mthe result is\u001b[39;49m\u001b[38;5;124;43m\"\u001b[39;49m\u001b[38;5;241;43m+\u001b[39;49m\u001b[43m \u001b[49m\u001b[43mresult\u001b[49m)\n\u001b[0;32m     11\u001b[0m \u001b[38;5;66;03m#Second condition\u001b[39;00m\n\u001b[0;32m     12\u001b[0m result \u001b[38;5;241m=\u001b[39m mul_or_sum(\u001b[38;5;241m40\u001b[39m,\u001b[38;5;241m30\u001b[39m)\n",
      "\u001b[1;31mTypeError\u001b[0m: can only concatenate str (not \"int\") to str"
     ]
    }
   ],
   "source": [
    "def mul_or_sum (n1,n2):\n",
    "    product =n1*n2\n",
    "    if product <=1000:\n",
    "        return product \n",
    "    else:\n",
    "        return n1+n2\n",
    "#first condition\n",
    "result= mul_or_sum(20,30)\n",
    "print (\"the result is\"+ result)\n",
    "\n",
    "#Second condition\n",
    "result = mul_or_sum(40,30)\n",
    "print(\"the result is\"+ result)"
   ]
  },
  {
   "cell_type": "code",
   "execution_count": 10,
   "id": "6e9e7fa5",
   "metadata": {},
   "outputs": [
    {
     "name": "stdout",
     "output_type": "stream",
     "text": [
      "the result is 600\n",
      "the result is 70\n"
     ]
    }
   ],
   "source": [
    "def mul_or_sum (n1,n2):\n",
    "    product =n1*n2\n",
    "    if product <=1000:\n",
    "        return product \n",
    "    else:\n",
    "        return n1+n2\n",
    "#first condition\n",
    "result= mul_or_sum(20,30)\n",
    "print (\"the result is\", result)  #(\"text\",Variable)\n",
    "\n",
    "#Second condition\n",
    "result = mul_or_sum(40,30)\n",
    "print(\"the result is\", result)"
   ]
  },
  {
   "cell_type": "markdown",
   "id": "2ef961a5",
   "metadata": {},
   "source": [
    "# Exercise 2: Print the sum of the current number and the previous number\n",
    "### Write a program to iterate the first 10 numbers and in each iteration, print the sum of the current and previous number."
   ]
  },
  {
   "cell_type": "code",
   "execution_count": 16,
   "id": "90ded934",
   "metadata": {},
   "outputs": [
    {
     "name": "stdout",
     "output_type": "stream",
     "text": [
      "Printing current and previous number sum in a range(10)\n",
      "Current Number 0 Previous Number 0 sum= 0\n",
      "Current Number 1 Previous Number 0 sum= 1\n",
      "Current Number 2 Previous Number 1 sum= 3\n",
      "Current Number 3 Previous Number 2 sum= 5\n",
      "Current Number 4 Previous Number 3 sum= 7\n",
      "Current Number 5 Previous Number 4 sum= 9\n",
      "Current Number 6 Previous Number 5 sum= 11\n",
      "Current Number 7 Previous Number 6 sum= 13\n",
      "Current Number 8 Previous Number 7 sum= 15\n",
      "Current Number 9 Previous Number 8 sum= 17\n"
     ]
    }
   ],
   "source": [
    "print(\"Printing current and previous number sum in a range(10)\")\n",
    "previous_num=0\n",
    "\n",
    "for i in range(0,10):\n",
    "    sum_num=i+previous_num\n",
    "    print(\"Current Number\",i,\"Previous Number\",previous_num,\"sum=\",sum_num)\n",
    "    previous_num=i"
   ]
  },
  {
   "cell_type": "markdown",
   "id": "c62f4f42",
   "metadata": {},
   "source": [
    "# Exercise 3: Print characters from a string that are present at an even index number\n",
    "##### Write a program to accept a string from the user and display characters that are present at an even index number.\n",
    "##### For example, str = \"pynative\" so you should display ‘p’, ‘n’, ‘t’, ‘v"
   ]
  },
  {
   "cell_type": "code",
   "execution_count": 24,
   "id": "e5d1bdbe",
   "metadata": {},
   "outputs": [
    {
     "name": "stdout",
     "output_type": "stream",
     "text": [
      "Enter wordo9m9a9r9a9b9u9r9i9z9k\n",
      "Orginal String is: o9m9a9r9a9b9u9r9i9z9k\n",
      "Printing only even index chars\n",
      "o\n",
      "m\n",
      "a\n",
      "r\n",
      "a\n",
      "b\n",
      "u\n",
      "r\n",
      "i\n",
      "z\n",
      "k\n"
     ]
    }
   ],
   "source": [
    "word=input(\"Enter word\")\n",
    "\n",
    "print (\"Orginal String is:\",word)\n",
    "\n",
    "print(\"Printing only even index chars\")\n",
    "\n",
    "word_list=list(word)\n",
    "for i in word_list[0::2]:\n",
    "    print(i) "
   ]
  },
  {
   "cell_type": "markdown",
   "id": "d0644b55",
   "metadata": {},
   "source": [
    "# Exercise 4: Remove first n characters from a string\n",
    "##### Write a program to remove characters from a string starting from zero up to n and return a new string.\n",
    "###### For example:\n",
    "###### remove_chars(\"pynative\", 4) so output must be tive. Here we need to remove first four characters from a string.\n",
    "###### remove_chars(\"pynative\", 2) so output must be native. Here we need to remove first two characters from a string.\n",
    "###### Note: n must be less than the length of the string."
   ]
  },
  {
   "cell_type": "code",
   "execution_count": 50,
   "id": "f2c8ffa3",
   "metadata": {},
   "outputs": [
    {
     "name": "stdout",
     "output_type": "stream",
     "text": [
      "Original string: omaraburizk\n",
      "aburizk\n",
      "Original string: omaraburizk\n",
      "raburizk\n",
      "Original string: omaraburizk\n",
      "araburizk\n"
     ]
    }
   ],
   "source": [
    "def remove_chars(word,number):\n",
    "    print (\"Original string:\",word)\n",
    "    x=word[number:]\n",
    "    return x\n",
    "\n",
    "print(remove_chars(\"omaraburizk\",4))\n",
    "print(remove_chars(\"omaraburizk\",3))\n",
    "print(remove_chars(\"omaraburizk\",2))"
   ]
  },
  {
   "cell_type": "markdown",
   "id": "d07068a4",
   "metadata": {},
   "source": [
    "##### تركايه اني انا الي ادخل الرقم وكام حرف هيتحذف"
   ]
  },
  {
   "cell_type": "code",
   "execution_count": 41,
   "id": "584b561c",
   "metadata": {},
   "outputs": [
    {
     "name": "stdout",
     "output_type": "stream",
     "text": [
      "Enter wordomatkama\n",
      "Orginal String is: omatkama\n",
      "Original string: omatkama\n",
      "atkama\n"
     ]
    }
   ],
   "source": [
    "def remove_chars (word,number):\n",
    "    print(\"Original string:\",word)\n",
    "    x=word[number:]\n",
    "    return x\n",
    "\n",
    "zz=input(\"Enter word\")\n",
    "print (\"Orginal String is:\", zz)\n",
    "# print(remove_chars(print (\"Orginal String is:\",zz),2))\n",
    "word=zz\n",
    "# print(remove_chars(\"pynative\", 4))\n",
    "# print(remove_chars(\"pynative\", 2))\n",
    "\n",
    "print(remove_chars(word,2))"
   ]
  },
  {
   "cell_type": "code",
   "execution_count": null,
   "id": "07e231ad",
   "metadata": {},
   "outputs": [],
   "source": []
  },
  {
   "cell_type": "code",
   "execution_count": 40,
   "id": "16ad700e",
   "metadata": {},
   "outputs": [
    {
     "name": "stdout",
     "output_type": "stream",
     "text": [
      "Enter wordomaraburizk\n",
      "Orginal String is: omaraburizk\n",
      "The numbers you will remove4\n",
      "Orginal String is: 4\n",
      "Original string: omaraburizk\n",
      "araburizk\n"
     ]
    }
   ],
   "source": [
    "def remove_chars (word,number):\n",
    "    print(\"Original string:\",word)\n",
    "    x=word[number:]\n",
    "    return x\n",
    "\n",
    "zz=input(\"Enter word\")\n",
    "print (\"Orginal String is:\", zz)\n",
    "# print(remove_chars(print (\"Orginal String is:\",zz),2))\n",
    "word=zz\n",
    "# print(remove_chars(\"pynative\", 4))\n",
    "# print(remove_chars(\"pynative\", 2))\n",
    "yy=input(\"The numbers you will remove\")\n",
    "print (\"Orginal String is:\", yy)\n",
    "\n",
    "print(remove_chars(word,2))"
   ]
  },
  {
   "cell_type": "code",
   "execution_count": 46,
   "id": "68c1448e",
   "metadata": {},
   "outputs": [
    {
     "ename": "SyntaxError",
     "evalue": "incomplete input (1930279474.py, line 18)",
     "output_type": "error",
     "traceback": [
      "\u001b[1;36m  Cell \u001b[1;32mIn [46], line 18\u001b[1;36m\u001b[0m\n\u001b[1;33m    print(remove_chars(word,yy)\u001b[0m\n\u001b[1;37m                               ^\u001b[0m\n\u001b[1;31mSyntaxError\u001b[0m\u001b[1;31m:\u001b[0m incomplete input\n"
     ]
    }
   ],
   "source": [
    "#user input word & numbers you will remove\n",
    "def remove_chars (word,number):\n",
    "    print(\"Original string:\",word)\n",
    "    x=word[number:]\n",
    "    return x\n",
    "\n",
    "zz=input(\"Enter word\")\n",
    "print (\"Orginal String is:\", zz)\n",
    "# print(remove_chars(print (\"Orginal String is:\",zz),2))\n",
    "word=zz\n",
    "# print(remove_chars(\"pynative\", 4))\n",
    "# print(remove_chars(\"pynative\", 2))\n",
    "yy=input(\"The numbers you will remove\")\n",
    "print (\"Orginal String is:\", yy)\n",
    "\n",
    "number=yy\n",
    "int(yy)\n",
    "print(remove_chars(word,yy)"
   ]
  },
  {
   "cell_type": "code",
   "execution_count": null,
   "id": "e9d2f6f4",
   "metadata": {},
   "outputs": [],
   "source": [
    "#user input word & numbers you will remove\n",
    "def remove_chars (word,number):\n",
    "    print(\"Original string:\",word)\n",
    "    x=word[number:]\n",
    "    return x\n",
    "\n",
    "zz=input(\"Enter word\")\n",
    "print (\"Orginal String is:\", zz)\n",
    "# print(remove_chars(print (\"Orginal String is:\",zz),2))\n",
    "word=zz\n",
    "# print(remove_chars(\"pynative\", 4))\n",
    "# print(remove_chars(\"pynative\", 2))\n",
    "yy=input(\"The numbers you will remove\")\n",
    "print (\"Orginal String is:\", yy)\n",
    "\n",
    "number=yy\n",
    "print(remove_chars(word,int(yy)))"
   ]
  },
  {
   "cell_type": "markdown",
   "id": "83c51341",
   "metadata": {},
   "source": [
    "# Exercise 5: Check if the first and last number of a list is the same\n",
    "### Write a function to return True if the first and last number of a given list is same. If numbers are different then return False."
   ]
  },
  {
   "cell_type": "code",
   "execution_count": 69,
   "id": "4fdf01bd",
   "metadata": {},
   "outputs": [
    {
     "ename": "SyntaxError",
     "evalue": "'return' outside function (930681801.py, line 3)",
     "output_type": "error",
     "traceback": [
      "\u001b[1;36m  Cell \u001b[1;32mIn [69], line 3\u001b[1;36m\u001b[0m\n\u001b[1;33m    return True\u001b[0m\n\u001b[1;37m    ^\u001b[0m\n\u001b[1;31mSyntaxError\u001b[0m\u001b[1;31m:\u001b[0m 'return' outside function\n"
     ]
    }
   ],
   "source": [
    "x=[1,2,3,4,5,6,8,9]\n",
    "if x[0]==x[-1]:\n",
    "    return True  \n",
    "else:\n",
    "    return False\n"
   ]
  },
  {
   "cell_type": "code",
   "execution_count": 68,
   "id": "68817432",
   "metadata": {},
   "outputs": [
    {
     "name": "stdout",
     "output_type": "stream",
     "text": [
      "True\n"
     ]
    }
   ],
   "source": [
    "# x=input(\"enter the lest\")\n",
    "# x=list(x)\n",
    "x=[1,2,3,4,5,6,8,9]\n",
    "def hhhh(number):\n",
    "    if x[0]==x[-1]:\n",
    "        return True\n",
    "    else:\n",
    "        return False\n",
    "print(hhhh(x))"
   ]
  },
  {
   "cell_type": "markdown",
   "id": "cb51c78a",
   "metadata": {},
   "source": [
    "##### انا الي ادخل اليست واتحكم فيها"
   ]
  },
  {
   "cell_type": "code",
   "execution_count": 70,
   "id": "cdb78d60",
   "metadata": {},
   "outputs": [
    {
     "name": "stdout",
     "output_type": "stream",
     "text": [
      "enter the lest123456789\n",
      "False\n"
     ]
    }
   ],
   "source": [
    "x=input(\"enter the list: \")\n",
    "x=list(x)\n",
    "def hhhh(number):\n",
    "    if x[0]==x[-1]:\n",
    "        return True\n",
    "    else:\n",
    "        return False\n",
    "print(hhhh(x))"
   ]
  },
  {
   "cell_type": "code",
   "execution_count": 71,
   "id": "af0e26c0",
   "metadata": {},
   "outputs": [
    {
     "name": "stdout",
     "output_type": "stream",
     "text": [
      "enter the lest123456781\n",
      "True\n"
     ]
    }
   ],
   "source": [
    "x=input(\"enter the list: \")\n",
    "x=list(x)\n",
    "def hhhh(number):\n",
    "    if x[0]==x[-1]:\n",
    "        return True\n",
    "    else:\n",
    "        return False\n",
    "print(hhhh(x))"
   ]
  },
  {
   "cell_type": "code",
   "execution_count": 78,
   "id": "131a36a5",
   "metadata": {
    "scrolled": true
   },
   "outputs": [
    {
     "name": "stdout",
     "output_type": "stream",
     "text": [
      "enter the list: omatata\n"
     ]
    },
    {
     "ename": "TypeError",
     "evalue": "int() argument must be a string, a bytes-like object or a real number, not 'list'",
     "output_type": "error",
     "traceback": [
      "\u001b[1;31m---------------------------------------------------------------------------\u001b[0m",
      "\u001b[1;31mTypeError\u001b[0m                                 Traceback (most recent call last)",
      "Cell \u001b[1;32mIn [78], line 5\u001b[0m\n\u001b[0;32m      2\u001b[0m x\u001b[38;5;241m=\u001b[39m\u001b[38;5;28minput\u001b[39m(\u001b[38;5;124m\"\u001b[39m\u001b[38;5;124menter the list: \u001b[39m\u001b[38;5;124m\"\u001b[39m)\n\u001b[0;32m      3\u001b[0m x\u001b[38;5;241m=\u001b[39m\u001b[38;5;28mlist\u001b[39m(x)\n\u001b[1;32m----> 5\u001b[0m om\u001b[38;5;241m=\u001b[39m\u001b[38;5;28;43mint\u001b[39;49m\u001b[43m(\u001b[49m\u001b[43mx\u001b[49m\u001b[43m)\u001b[49m\n\u001b[0;32m      6\u001b[0m \u001b[38;5;28;01mif\u001b[39;00m x\u001b[38;5;241m==\u001b[39mom:\n\u001b[0;32m      7\u001b[0m     \u001b[38;5;28;01mdef\u001b[39;00m \u001b[38;5;21mhhhh\u001b[39m(number):\n",
      "\u001b[1;31mTypeError\u001b[0m: int() argument must be a string, a bytes-like object or a real number, not 'list'"
     ]
    }
   ],
   "source": [
    "#if enter string return must entet integer\n",
    "x=input(\"enter the list: \")\n",
    "x=list(x)\n",
    "\n",
    "\n",
    "if x==int:\n",
    "    def hhhh(number):\n",
    "        if x[0]==x[-1]:\n",
    "            return True\n",
    "        else:\n",
    "            return False\n",
    "else:\n",
    "    print(\"enter the integer\")\n",
    "    x\n"
   ]
  },
  {
   "cell_type": "markdown",
   "id": "218d5290",
   "metadata": {},
   "source": [
    "# Exercise 6: Display numbers divisible by 5 from a list\n",
    "#### Iterate the given list of numbers and print only those numbers which are divisible by 5"
   ]
  },
  {
   "cell_type": "code",
   "execution_count": 90,
   "id": "2f51e045",
   "metadata": {
    "scrolled": true
   },
   "outputs": [
    {
     "name": "stdout",
     "output_type": "stream",
     "text": [
      "Given list is [5, 10, 22, 33, 50]\n",
      "Divisible by 5: \n",
      "5\n",
      "10\n",
      "50\n"
     ]
    }
   ],
   "source": [
    "x=[5,10,22,33,50]\n",
    "print(\"Given list is\",x)\n",
    "print(\"Divisible by 5: \")\n",
    "for i in x:\n",
    "    if i % 5==0:\n",
    "        print (i)"
   ]
  },
  {
   "cell_type": "code",
   "execution_count": 93,
   "id": "f48fd153",
   "metadata": {},
   "outputs": [
    {
     "name": "stdout",
     "output_type": "stream",
     "text": [
      "5 10 15 22 33 50\n",
      "Given list is ['5', ' ', '1', '0', ' ', '1', '5', ' ', '2', '2', ' ', '3', '3', ' ', '5', '0']\n",
      "Divisible by 5: \n"
     ]
    },
    {
     "ename": "TypeError",
     "evalue": "not all arguments converted during string formatting",
     "output_type": "error",
     "traceback": [
      "\u001b[1;31m---------------------------------------------------------------------------\u001b[0m",
      "\u001b[1;31mTypeError\u001b[0m                                 Traceback (most recent call last)",
      "Cell \u001b[1;32mIn [93], line 5\u001b[0m\n\u001b[0;32m      3\u001b[0m \u001b[38;5;28mprint\u001b[39m(\u001b[38;5;124m\"\u001b[39m\u001b[38;5;124mDivisible by 5: \u001b[39m\u001b[38;5;124m\"\u001b[39m)\n\u001b[0;32m      4\u001b[0m \u001b[38;5;28;01mfor\u001b[39;00m i \u001b[38;5;129;01min\u001b[39;00m x:\n\u001b[1;32m----> 5\u001b[0m     \u001b[38;5;28;01mif\u001b[39;00m \u001b[43mi\u001b[49m\u001b[43m \u001b[49m\u001b[38;5;241;43m%\u001b[39;49m\u001b[43m \u001b[49m\u001b[38;5;241;43m5\u001b[39;49m\u001b[38;5;241m==\u001b[39m\u001b[38;5;241m0\u001b[39m:\n\u001b[0;32m      6\u001b[0m         \u001b[38;5;28mprint\u001b[39m (i)\n",
      "\u001b[1;31mTypeError\u001b[0m: not all arguments converted during string formatting"
     ]
    }
   ],
   "source": [
    "x=input();x=list(x)\n",
    "print(\"Given list is\",x)\n",
    "print(\"Divisible by 5: \")\n",
    "for i in x:\n",
    "    if i % 5==0:\n",
    "        print (i)"
   ]
  },
  {
   "cell_type": "code",
   "execution_count": 96,
   "id": "0523beab",
   "metadata": {},
   "outputs": [
    {
     "name": "stdout",
     "output_type": "stream",
     "text": [
      "10 55 66 20 100\n",
      "Given list is ['10', '55', '66', '20', '100']\n",
      "Divisible by 5: \n"
     ]
    },
    {
     "ename": "TypeError",
     "evalue": "not all arguments converted during string formatting",
     "output_type": "error",
     "traceback": [
      "\u001b[1;31m---------------------------------------------------------------------------\u001b[0m",
      "\u001b[1;31mTypeError\u001b[0m                                 Traceback (most recent call last)",
      "Cell \u001b[1;32mIn [96], line 6\u001b[0m\n\u001b[0;32m      4\u001b[0m \u001b[38;5;28mprint\u001b[39m(\u001b[38;5;124m\"\u001b[39m\u001b[38;5;124mDivisible by 5: \u001b[39m\u001b[38;5;124m\"\u001b[39m)\n\u001b[0;32m      5\u001b[0m \u001b[38;5;28;01mfor\u001b[39;00m i \u001b[38;5;129;01min\u001b[39;00m x:\n\u001b[1;32m----> 6\u001b[0m     \u001b[38;5;28;01mif\u001b[39;00m \u001b[43mi\u001b[49m\u001b[43m \u001b[49m\u001b[38;5;241;43m%\u001b[39;49m\u001b[43m \u001b[49m\u001b[38;5;241;43m5\u001b[39;49m\u001b[38;5;241m==\u001b[39m\u001b[38;5;241m0\u001b[39m:\n\u001b[0;32m      7\u001b[0m         \u001b[38;5;28mprint\u001b[39m (i)\n",
      "\u001b[1;31mTypeError\u001b[0m: not all arguments converted during string formatting"
     ]
    }
   ],
   "source": [
    "\n",
    "x=input();x=x.split()\n",
    "x=list(x)\n",
    "print(\"Given list is\",x)\n",
    "print(\"Divisible by 5: \")\n",
    "for i in x:\n",
    "    if i % 5==0:\n",
    "        print (i)"
   ]
  },
  {
   "cell_type": "code",
   "execution_count": null,
   "id": "9807770e",
   "metadata": {},
   "outputs": [],
   "source": []
  },
  {
   "cell_type": "code",
   "execution_count": null,
   "id": "868a60e9",
   "metadata": {},
   "outputs": [],
   "source": []
  },
  {
   "cell_type": "code",
   "execution_count": null,
   "id": "cb193163",
   "metadata": {},
   "outputs": [],
   "source": []
  },
  {
   "cell_type": "code",
   "execution_count": null,
   "id": "55b447ad",
   "metadata": {},
   "outputs": [],
   "source": []
  },
  {
   "cell_type": "code",
   "execution_count": null,
   "id": "38f9bf28",
   "metadata": {},
   "outputs": [],
   "source": []
  },
  {
   "cell_type": "code",
   "execution_count": null,
   "id": "b6c6501c",
   "metadata": {},
   "outputs": [],
   "source": []
  },
  {
   "cell_type": "code",
   "execution_count": null,
   "id": "1770589b",
   "metadata": {},
   "outputs": [],
   "source": []
  }
 ],
 "metadata": {
  "kernelspec": {
   "display_name": "Python 3 (ipykernel)",
   "language": "python",
   "name": "python3"
  },
  "language_info": {
   "codemirror_mode": {
    "name": "ipython",
    "version": 3
   },
   "file_extension": ".py",
   "mimetype": "text/x-python",
   "name": "python",
   "nbconvert_exporter": "python",
   "pygments_lexer": "ipython3",
   "version": "3.10.8"
  }
 },
 "nbformat": 4,
 "nbformat_minor": 5
}
