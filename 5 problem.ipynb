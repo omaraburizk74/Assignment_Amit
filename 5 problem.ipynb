{
 "cells": [
  {
   "cell_type": "code",
   "execution_count": 5,
   "id": "1ee4900d",
   "metadata": {
    "scrolled": false
   },
   "outputs": [
    {
     "name": "stdout",
     "output_type": "stream",
     "text": [
      "5\n",
      "1 2 4 4 3\n",
      "output  3\n"
     ]
    }
   ],
   "source": [
    "\n",
    "# هو عايز نطلع تاني اكبر رقم\n",
    "\n",
    "\n",
    "if __name__ == '__main__':\n",
    "    n = int(input())\n",
    "    arr = map(int, input().split())\n",
    "    \n",
    "    \n",
    "    score=list(arr)\n",
    "    score.sort()\n",
    "    \n",
    "    first , second = , 100\n",
    "    \n",
    "    for score in score:\n",
    "      if first<score:\n",
    "        second =first\n",
    "        first=score\n",
    "    print(\"output \", second)\n"
   ]
  },
  {
   "cell_type": "code",
   "execution_count": 10,
   "id": "1c98a6bb",
   "metadata": {},
   "outputs": [
    {
     "data": {
      "text/plain": [
       "3"
      ]
     },
     "execution_count": 10,
     "metadata": {},
     "output_type": "execute_result"
    }
   ],
   "source": [
    "# if __name__ == '__main__':\n",
    "#     n = int(input())\n",
    "#     arr = map(int, input().split())\n",
    "\n",
    "# هو عايز نطلع تاني اكبر رقم\n",
    "#set بتشيل التكرار \n",
    "    \n",
    "sorted(set([1, 2, 4 ,4, 3]))[-2]"
   ]
  },
  {
   "cell_type": "markdown",
   "id": "57184b0d",
   "metadata": {},
   "source": [
    "# _______________________"
   ]
  },
  {
   "cell_type": "markdown",
   "id": "c2be809c",
   "metadata": {},
   "source": [
    "# list comprehensions"
   ]
  },
  {
   "cell_type": "code",
   "execution_count": 3,
   "id": "b3061d8b",
   "metadata": {},
   "outputs": [
    {
     "name": "stdout",
     "output_type": "stream",
     "text": [
      "[1, 4, 9, 16, 25, 36, 49, 64, 81, 100]\n"
     ]
    }
   ],
   "source": [
    "#natural\n",
    "#return list 1->10 [square]\n",
    "\n",
    "numbers =[]\n",
    "for number in range(1,11):\n",
    "    numbers.append(number**2)\n",
    "print(numbers)"
   ]
  },
  {
   "cell_type": "code",
   "execution_count": 7,
   "id": "e0ec2fcd",
   "metadata": {},
   "outputs": [
    {
     "data": {
      "text/plain": [
       "[1, 4, 9, 16, 25, 36, 49, 64, 81, 100]"
      ]
     },
     "execution_count": 7,
     "metadata": {},
     "output_type": "execute_result"
    }
   ],
   "source": [
    "#use list comprehensions\n",
    "numbers2 =[] \n",
    "numbers2=[number**2 for number in range(1,11)]\n",
    "numbers2"
   ]
  },
  {
   "cell_type": "code",
   "execution_count": 9,
   "id": "8d5fc1bd",
   "metadata": {},
   "outputs": [
    {
     "data": {
      "text/plain": [
       "[2, 4, 6, 8, 10, 12, 14, 16, 18, 20]"
      ]
     },
     "execution_count": 9,
     "metadata": {},
     "output_type": "execute_result"
    }
   ],
   "source": [
    "#print even number 1->20\n",
    "even_number=[x for x in range(1,21) if x%2==0]\n",
    "even_number\n"
   ]
  },
  {
   "cell_type": "code",
   "execution_count": null,
   "id": "4d693cfb",
   "metadata": {},
   "outputs": [],
   "source": []
  },
  {
   "cell_type": "code",
   "execution_count": null,
   "id": "c63107ea",
   "metadata": {},
   "outputs": [],
   "source": []
  },
  {
   "cell_type": "markdown",
   "id": "b2891118",
   "metadata": {},
   "source": [
    "\n",
    "###Let's learn about list comprehensions! You are given three integers  and  representing the dimensions of a cuboid along with an integer . Print a list of all possible coordinates given by  on a 3D grid where the sum of  is not equal to . Here, . Please use list comprehensions rather than multiple loops, as a learning exercise."
   ]
  },
  {
   "cell_type": "code",
   "execution_count": 16,
   "id": "9b4fc259",
   "metadata": {},
   "outputs": [
    {
     "name": "stdout",
     "output_type": "stream",
     "text": [
      "2\n",
      "2\n",
      "2\n",
      "2\n",
      "[[0, 0, 0], [0, 0, 1], [0, 1, 0], [0, 1, 2], [0, 2, 1], [0, 2, 2], [1, 0, 0], [1, 0, 2], [1, 1, 1], [1, 1, 2], [1, 2, 0], [1, 2, 1], [1, 2, 2], [2, 0, 1], [2, 0, 2], [2, 1, 0], [2, 1, 1], [2, 1, 2], [2, 2, 0], [2, 2, 1], [2, 2, 2]]\n"
     ]
    }
   ],
   "source": [
    "if __name__ == '__main__':\n",
    "    x = int(input())\n",
    "    y = int(input())\n",
    "    z = int(input())\n",
    "    n = int(input())  \n",
    "    \n",
    "    l=list()\n",
    "    for i in range (x+1):\n",
    "        for j in range(y+1):\n",
    "            for k in range(z+1):\n",
    "                if i+j+k !=n:\n",
    "                    l.append([i,j,k])\n",
    "    print(l)"
   ]
  },
  {
   "cell_type": "code",
   "execution_count": 15,
   "id": "d3b75623",
   "metadata": {
    "scrolled": true
   },
   "outputs": [
    {
     "name": "stdout",
     "output_type": "stream",
     "text": [
      "2\n",
      "2\n",
      "2\n",
      "2\n",
      "[[0, 0, 0], [0, 0, 1], [0, 1, 0], [0, 1, 2], [0, 2, 1], [0, 2, 2], [1, 0, 0], [1, 0, 2], [1, 1, 1], [1, 1, 2], [1, 2, 0], [1, 2, 1], [1, 2, 2], [2, 0, 1], [2, 0, 2], [2, 1, 0], [2, 1, 1], [2, 1, 2], [2, 2, 0], [2, 2, 1], [2, 2, 2]]\n"
     ]
    }
   ],
   "source": [
    "if __name__ == '__main__':\n",
    "    x = int(input())\n",
    "    y = int(input())\n",
    "    z = int(input())\n",
    "    n = int(input()) \n",
    "    \n",
    "    arr=[[i,j,k] for i in range (x+1) for j in range (y+1) for k in range (z+1) if (i+j+k) != n]\n",
    "\n",
    "    print(arr)"
   ]
  },
  {
   "cell_type": "markdown",
   "id": "a46bbdc3",
   "metadata": {},
   "source": [
    "\n",
    "\n",
    "# sWAP cASE\n",
    "\n"
   ]
  },
  {
   "cell_type": "code",
   "execution_count": 1,
   "id": "34012ed1",
   "metadata": {},
   "outputs": [],
   "source": [
    "def swap_case(s):\n",
    "    return s.swapcase()   \n",
    "\n",
    "# if __name__ == '__main__':\n",
    "#     s = input()\n",
    "#     result = swap_case(s)\n",
    "#     print(result)"
   ]
  },
  {
   "cell_type": "markdown",
   "id": "6529c9be",
   "metadata": {},
   "source": [
    "# "
   ]
  },
  {
   "cell_type": "code",
   "execution_count": 2,
   "id": "b68fee5b",
   "metadata": {},
   "outputs": [],
   "source": [
    "class Emp:\n",
    "    pass\n"
   ]
  },
  {
   "cell_type": "code",
   "execution_count": 4,
   "id": "4d6dabc5",
   "metadata": {},
   "outputs": [
    {
     "data": {
      "text/plain": [
       "mappingproxy({'__module__': '__main__',\n",
       "              '__dict__': <attribute '__dict__' of 'Emp' objects>,\n",
       "              '__weakref__': <attribute '__weakref__' of 'Emp' objects>,\n",
       "              '__doc__': None})"
      ]
     },
     "execution_count": 4,
     "metadata": {},
     "output_type": "execute_result"
    }
   ],
   "source": [
    "Emp.__dict__"
   ]
  },
  {
   "cell_type": "code",
   "execution_count": null,
   "id": "016e12dc",
   "metadata": {},
   "outputs": [],
   "source": []
  },
  {
   "cell_type": "code",
   "execution_count": null,
   "id": "69aeefd6",
   "metadata": {},
   "outputs": [],
   "source": []
  },
  {
   "cell_type": "code",
   "execution_count": null,
   "id": "c9f74b50",
   "metadata": {},
   "outputs": [],
   "source": []
  },
  {
   "cell_type": "code",
   "execution_count": null,
   "id": "695873ae",
   "metadata": {},
   "outputs": [],
   "source": []
  }
 ],
 "metadata": {
  "kernelspec": {
   "display_name": "Python 3 (ipykernel)",
   "language": "python",
   "name": "python3"
  },
  "language_info": {
   "codemirror_mode": {
    "name": "ipython",
    "version": 3
   },
   "file_extension": ".py",
   "mimetype": "text/x-python",
   "name": "python",
   "nbconvert_exporter": "python",
   "pygments_lexer": "ipython3",
   "version": "3.10.8"
  }
 },
 "nbformat": 4,
 "nbformat_minor": 5
}
